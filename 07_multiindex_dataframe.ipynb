{
 "cells": [
  {
   "cell_type": "markdown",
   "id": "b57d02e6",
   "metadata": {},
   "source": [
    "# MultiIndex DataFrame"
   ]
  },
  {
   "cell_type": "code",
   "execution_count": 1,
   "id": "b6e551e2",
   "metadata": {},
   "outputs": [],
   "source": [
    "import numpy as np\n",
    "import pandas as pd"
   ]
  },
  {
   "cell_type": "code",
   "execution_count": 2,
   "id": "233406b0",
   "metadata": {},
   "outputs": [],
   "source": [
    "addresses = [\n",
    "    (\"101 Hanumanpet\", \"Hyderabad\", \"TS\", \"500047\"),\n",
    "    (\"503 Marredpally\", \"Secunderabad\", \"TS\", \"500026\"),\n",
    "    (\"103 Musheerabad\", \"Hyderabad\", \"TS\", \"500020\")\n",
    "]"
   ]
  },
  {
   "cell_type": "code",
   "execution_count": 6,
   "id": "ac031d6c",
   "metadata": {},
   "outputs": [
    {
     "data": {
      "text/plain": [
       "MultiIndex([( '101 Hanumanpet',    'Hyderabad', 'TS', '500047'),\n",
       "            ('503 Marredpally', 'Secunderabad', 'TS', '500026'),\n",
       "            ('103 Musheerabad',    'Hyderabad', 'TS', '500020')],\n",
       "           names=['Street', 'City', 'State', 'Zip'])"
      ]
     },
     "execution_count": 6,
     "metadata": {},
     "output_type": "execute_result"
    }
   ],
   "source": [
    "pd.MultiIndex.from_tuples(addresses)\n",
    "pd.MultiIndex.from_tuples(tuples=addresses,\n",
    "                          names=[\"Street\", \"City\", \"State\", \"Zip\"])"
   ]
  },
  {
   "cell_type": "code",
   "execution_count": 7,
   "id": "6c08fb80",
   "metadata": {},
   "outputs": [],
   "source": [
    "row_index = pd.MultiIndex.from_tuples(tuples=addresses,\n",
    "                                       names=[\"Street\", \"City\", \"State\", \"Zip\"])"
   ]
  },
  {
   "cell_type": "code",
   "execution_count": 8,
   "id": "0713babf",
   "metadata": {},
   "outputs": [],
   "source": [
    "data = [\n",
    "    ['A', 'B+'],\n",
    "    ['C+', 'C'],\n",
    "    ['D', 'A']\n",
    "]"
   ]
  },
  {
   "cell_type": "code",
   "execution_count": 9,
   "id": "e9f349cc",
   "metadata": {},
   "outputs": [
    {
     "data": {
      "text/html": [
       "<div>\n",
       "<style scoped>\n",
       "    .dataframe tbody tr th:only-of-type {\n",
       "        vertical-align: middle;\n",
       "    }\n",
       "\n",
       "    .dataframe tbody tr th {\n",
       "        vertical-align: top;\n",
       "    }\n",
       "\n",
       "    .dataframe thead th {\n",
       "        text-align: right;\n",
       "    }\n",
       "</style>\n",
       "<table border=\"1\" class=\"dataframe\">\n",
       "  <thead>\n",
       "    <tr style=\"text-align: right;\">\n",
       "      <th></th>\n",
       "      <th></th>\n",
       "      <th></th>\n",
       "      <th></th>\n",
       "      <th>0</th>\n",
       "      <th>1</th>\n",
       "    </tr>\n",
       "    <tr>\n",
       "      <th>Street</th>\n",
       "      <th>City</th>\n",
       "      <th>State</th>\n",
       "      <th>Zip</th>\n",
       "      <th></th>\n",
       "      <th></th>\n",
       "    </tr>\n",
       "  </thead>\n",
       "  <tbody>\n",
       "    <tr>\n",
       "      <th>101 Hanumanpet</th>\n",
       "      <th>Hyderabad</th>\n",
       "      <th>TS</th>\n",
       "      <th>500047</th>\n",
       "      <td>A</td>\n",
       "      <td>B+</td>\n",
       "    </tr>\n",
       "    <tr>\n",
       "      <th>503 Marredpally</th>\n",
       "      <th>Secunderabad</th>\n",
       "      <th>TS</th>\n",
       "      <th>500026</th>\n",
       "      <td>C+</td>\n",
       "      <td>C</td>\n",
       "    </tr>\n",
       "    <tr>\n",
       "      <th>103 Musheerabad</th>\n",
       "      <th>Hyderabad</th>\n",
       "      <th>TS</th>\n",
       "      <th>500020</th>\n",
       "      <td>D</td>\n",
       "      <td>A</td>\n",
       "    </tr>\n",
       "  </tbody>\n",
       "</table>\n",
       "</div>"
      ],
      "text/plain": [
       "                                            0   1\n",
       "Street          City         State Zip           \n",
       "101 Hanumanpet  Hyderabad    TS    500047   A  B+\n",
       "503 Marredpally Secunderabad TS    500026  C+   C\n",
       "103 Musheerabad Hyderabad    TS    500020   D   A"
      ]
     },
     "execution_count": 9,
     "metadata": {},
     "output_type": "execute_result"
    }
   ],
   "source": [
    "pd.DataFrame(data=data, index=row_index)"
   ]
  },
  {
   "cell_type": "code",
   "execution_count": 10,
   "id": "7c27ed2e",
   "metadata": {},
   "outputs": [],
   "source": [
    "columns = [\"Schools\", \"Cost of Living\"]"
   ]
  },
  {
   "cell_type": "code",
   "execution_count": 12,
   "id": "cf8b3201",
   "metadata": {},
   "outputs": [
    {
     "data": {
      "text/html": [
       "<div>\n",
       "<style scoped>\n",
       "    .dataframe tbody tr th:only-of-type {\n",
       "        vertical-align: middle;\n",
       "    }\n",
       "\n",
       "    .dataframe tbody tr th {\n",
       "        vertical-align: top;\n",
       "    }\n",
       "\n",
       "    .dataframe thead th {\n",
       "        text-align: right;\n",
       "    }\n",
       "</style>\n",
       "<table border=\"1\" class=\"dataframe\">\n",
       "  <thead>\n",
       "    <tr style=\"text-align: right;\">\n",
       "      <th></th>\n",
       "      <th></th>\n",
       "      <th></th>\n",
       "      <th></th>\n",
       "      <th>Schools</th>\n",
       "      <th>Cost of Living</th>\n",
       "    </tr>\n",
       "    <tr>\n",
       "      <th>Street</th>\n",
       "      <th>City</th>\n",
       "      <th>State</th>\n",
       "      <th>Zip</th>\n",
       "      <th></th>\n",
       "      <th></th>\n",
       "    </tr>\n",
       "  </thead>\n",
       "  <tbody>\n",
       "    <tr>\n",
       "      <th>101 Hanumanpet</th>\n",
       "      <th>Hyderabad</th>\n",
       "      <th>TS</th>\n",
       "      <th>500047</th>\n",
       "      <td>A</td>\n",
       "      <td>B+</td>\n",
       "    </tr>\n",
       "    <tr>\n",
       "      <th>503 Marredpally</th>\n",
       "      <th>Secunderabad</th>\n",
       "      <th>TS</th>\n",
       "      <th>500026</th>\n",
       "      <td>C+</td>\n",
       "      <td>C</td>\n",
       "    </tr>\n",
       "    <tr>\n",
       "      <th>103 Musheerabad</th>\n",
       "      <th>Hyderabad</th>\n",
       "      <th>TS</th>\n",
       "      <th>500020</th>\n",
       "      <td>D</td>\n",
       "      <td>A</td>\n",
       "    </tr>\n",
       "  </tbody>\n",
       "</table>\n",
       "</div>"
      ],
      "text/plain": [
       "                                          Schools Cost of Living\n",
       "Street          City         State Zip                          \n",
       "101 Hanumanpet  Hyderabad    TS    500047       A             B+\n",
       "503 Marredpally Secunderabad TS    500026      C+              C\n",
       "103 Musheerabad Hyderabad    TS    500020       D              A"
      ]
     },
     "execution_count": 12,
     "metadata": {},
     "output_type": "execute_result"
    }
   ],
   "source": [
    "area_grades = pd.DataFrame(\n",
    "    data = data,\n",
    "    index= row_index,\n",
    "    columns= columns\n",
    ")\n",
    "area_grades"
   ]
  },
  {
   "cell_type": "code",
   "execution_count": 13,
   "id": "bb1bce80",
   "metadata": {},
   "outputs": [],
   "source": [
    "data = [\n",
    "    [\"A\", \"C+\", \"B\", \"B+\"],\n",
    "    [\"B\", \"A\", \"C\", \"C+\"],\n",
    "    [\"B\", \"C\", \"C+\", \"D\"]\n",
    "]"
   ]
  },
  {
   "cell_type": "code",
   "execution_count": 14,
   "id": "36c49e67",
   "metadata": {},
   "outputs": [],
   "source": [
    "column_index = pd.MultiIndex.from_tuples([\n",
    "    ('Culture', 'Restaurants'),\n",
    "    ('Culture', 'Museums'),\n",
    "    ('Services', 'Police'),\n",
    "    ('Services', 'Schools')\n",
    "])"
   ]
  },
  {
   "cell_type": "code",
   "execution_count": 16,
   "id": "ac0e8bb1",
   "metadata": {},
   "outputs": [
    {
     "data": {
      "text/html": [
       "<div>\n",
       "<style scoped>\n",
       "    .dataframe tbody tr th:only-of-type {\n",
       "        vertical-align: middle;\n",
       "    }\n",
       "\n",
       "    .dataframe tbody tr th {\n",
       "        vertical-align: top;\n",
       "    }\n",
       "\n",
       "    .dataframe thead tr th {\n",
       "        text-align: left;\n",
       "    }\n",
       "\n",
       "    .dataframe thead tr:last-of-type th {\n",
       "        text-align: right;\n",
       "    }\n",
       "</style>\n",
       "<table border=\"1\" class=\"dataframe\">\n",
       "  <thead>\n",
       "    <tr>\n",
       "      <th></th>\n",
       "      <th></th>\n",
       "      <th></th>\n",
       "      <th></th>\n",
       "      <th colspan=\"2\" halign=\"left\">Culture</th>\n",
       "      <th colspan=\"2\" halign=\"left\">Services</th>\n",
       "    </tr>\n",
       "    <tr>\n",
       "      <th></th>\n",
       "      <th></th>\n",
       "      <th></th>\n",
       "      <th></th>\n",
       "      <th>Restaurants</th>\n",
       "      <th>Museums</th>\n",
       "      <th>Police</th>\n",
       "      <th>Schools</th>\n",
       "    </tr>\n",
       "    <tr>\n",
       "      <th>Street</th>\n",
       "      <th>City</th>\n",
       "      <th>State</th>\n",
       "      <th>Zip</th>\n",
       "      <th></th>\n",
       "      <th></th>\n",
       "      <th></th>\n",
       "      <th></th>\n",
       "    </tr>\n",
       "  </thead>\n",
       "  <tbody>\n",
       "    <tr>\n",
       "      <th>101 Hanumanpet</th>\n",
       "      <th>Hyderabad</th>\n",
       "      <th>TS</th>\n",
       "      <th>500047</th>\n",
       "      <td>A</td>\n",
       "      <td>C+</td>\n",
       "      <td>B</td>\n",
       "      <td>B+</td>\n",
       "    </tr>\n",
       "    <tr>\n",
       "      <th>503 Marredpally</th>\n",
       "      <th>Secunderabad</th>\n",
       "      <th>TS</th>\n",
       "      <th>500026</th>\n",
       "      <td>B</td>\n",
       "      <td>A</td>\n",
       "      <td>C</td>\n",
       "      <td>C+</td>\n",
       "    </tr>\n",
       "    <tr>\n",
       "      <th>103 Musheerabad</th>\n",
       "      <th>Hyderabad</th>\n",
       "      <th>TS</th>\n",
       "      <th>500020</th>\n",
       "      <td>B</td>\n",
       "      <td>C</td>\n",
       "      <td>C+</td>\n",
       "      <td>D</td>\n",
       "    </tr>\n",
       "  </tbody>\n",
       "</table>\n",
       "</div>"
      ],
      "text/plain": [
       "                                              Culture         Services        \n",
       "                                          Restaurants Museums   Police Schools\n",
       "Street          City         State Zip                                        \n",
       "101 Hanumanpet  Hyderabad    TS    500047           A      C+        B      B+\n",
       "503 Marredpally Secunderabad TS    500026           B       A        C      C+\n",
       "103 Musheerabad Hyderabad    TS    500020           B       C       C+       D"
      ]
     },
     "execution_count": 16,
     "metadata": {},
     "output_type": "execute_result"
    }
   ],
   "source": [
    "area_grades = pd.DataFrame(\n",
    "    data = data,\n",
    "    index = row_index,\n",
    "    columns = column_index\n",
    ")\n",
    "area_grades"
   ]
  }
 ],
 "metadata": {
  "kernelspec": {
   "display_name": "venv",
   "language": "python",
   "name": "python3"
  },
  "language_info": {
   "codemirror_mode": {
    "name": "ipython",
    "version": 3
   },
   "file_extension": ".py",
   "mimetype": "text/x-python",
   "name": "python",
   "nbconvert_exporter": "python",
   "pygments_lexer": "ipython3",
   "version": "3.10.11"
  }
 },
 "nbformat": 4,
 "nbformat_minor": 5
}
